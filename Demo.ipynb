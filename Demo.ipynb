{
 "cells": [
  {
   "cell_type": "markdown",
   "id": "5eea4574-1138-4c12-9def-14f9ffbb7bca",
   "metadata": {},
   "source": [
    "# Generating methods section of BIDS dataset\n",
    "\n",
    "Uses pybids and chevron (a mustache template renderer) to automatically generate a method section"
   ]
  },
  {
   "cell_type": "code",
   "execution_count": 24,
   "id": "cf013321-671b-4bd7-b732-afe76698ec34",
   "metadata": {},
   "outputs": [
    {
     "name": "stdout",
     "output_type": "stream",
     "text": [
      "The autoreload extension is already loaded. To reload it, use:\n",
      "  %reload_ext autoreload\n",
      "The lab_black extension is already loaded. To reload it, use:\n",
      "  %reload_ext lab_black\n"
     ]
    }
   ],
   "source": [
    "%load_ext autoreload\n",
    "%autoreload 2\n",
    "%load_ext lab_black\n",
    "\n",
    "\n",
    "import chevron\n",
    "import os\n",
    "\n",
    "import nibabel as nib\n",
    "\n",
    "from bids import BIDSLayout\n",
    "from bids.tests import get_test_data_path\n",
    "\n",
    "from rich import print\n",
    "\n",
    "import parameters"
   ]
  },
  {
   "cell_type": "code",
   "execution_count": 2,
   "id": "d5017eac-6ea2-478a-9d04-6737266975da",
   "metadata": {},
   "outputs": [],
   "source": [
    "partials_path = \"/home/remi/github/BIDS-methods/partials/\""
   ]
  },
  {
   "cell_type": "markdown",
   "id": "224bab4b-7fd5-42fa-bd8a-1e3e43bf1367",
   "metadata": {},
   "source": [
    "## Using pybids test data"
   ]
  },
  {
   "cell_type": "code",
   "execution_count": 21,
   "id": "92ae24d8-553b-403b-b3aa-e9ec36838247",
   "metadata": {},
   "outputs": [],
   "source": [
    "dataset = \"synthetic\"\n",
    "\n",
    "# Here we're using an example BIDS dataset that's bundled with the pybids tests\n",
    "data_path = os.path.join(get_test_data_path(), dataset)\n",
    "\n",
    "# Load the BIDS dataset\n",
    "layout = BIDSLayout(data_path)"
   ]
  },
  {
   "cell_type": "code",
   "execution_count": 25,
   "id": "131ef632-81f4-42ed-a2d7-64dc34ad6489",
   "metadata": {},
   "outputs": [],
   "source": [
    "# get the first bold file of subject 01\n",
    "bf = layout.get(subject=\"01\", extension=\"nii.gz\", suffix=\"bold\")[0]\n",
    "\n",
    "metadata = bf.get_metadata()\n",
    "\n",
    "filename = bf.path\n",
    "img = nib.load(filename)\n",
    "image_size = parameters.describe_image_size(img)\n",
    "\n",
    "info = {**metadata, **image_size}\n",
    "\n",
    "info[\"suffix\"] = bf.get_entities()[\"suffix\"]\n",
    "info[\"repetition_time\"] = parameters.describe_repetition_time(metadata)"
   ]
  },
  {
   "cell_type": "markdown",
   "id": "637e43c3-aa6e-425f-a903-4c4bf4d928c9",
   "metadata": {},
   "source": [
    "Using the `keep` option renders the empty tags"
   ]
  },
  {
   "cell_type": "code",
   "execution_count": 27,
   "id": "aa0f843c-9f35-4262-ad67-43f087e9554a",
   "metadata": {
    "tags": []
   },
   "outputs": [
    {
     "data": {
      "text/html": [
       "<pre style=\"white-space:pre;overflow-x:auto;line-height:normal;font-family:Menlo,'DejaVu Sans Mono',consolas,'Courier New',monospace\"><span style=\"color: #000080; text-decoration-color: #000080\">The data acquisition was performed in the </span><span style=\"color: #000080; text-decoration-color: #000080; font-weight: bold\">{{</span><span style=\"color: #000080; text-decoration-color: #000080\"> InstitutionName </span><span style=\"color: #000080; text-decoration-color: #000080; font-weight: bold\">}}</span><span style=\"color: #000080; text-decoration-color: #000080\">, </span><span style=\"color: #000080; text-decoration-color: #000080; font-weight: bold\">{{</span><span style=\"color: #000080; text-decoration-color: #000080\"> </span>\n",
       "<span style=\"color: #000080; text-decoration-color: #000080\">InstitutionalDepartmentName </span><span style=\"color: #000080; text-decoration-color: #000080; font-weight: bold\">}}</span><span style=\"color: #000080; text-decoration-color: #000080\">, </span><span style=\"color: #000080; text-decoration-color: #000080; font-weight: bold\">{{</span><span style=\"color: #000080; text-decoration-color: #000080\"> InstitutionAddress </span><span style=\"color: #000080; text-decoration-color: #000080; font-weight: bold\">}}</span><span style=\"color: #000080; text-decoration-color: #000080\">.</span>\n",
       "\n",
       "<span style=\"color: #000080; text-decoration-color: #000080\">MRI scans were acquired at </span><span style=\"color: #000080; text-decoration-color: #000080; font-weight: bold\">{{</span><span style=\"color: #000080; text-decoration-color: #000080\"> MagneticFieldStrength </span><span style=\"color: #000080; text-decoration-color: #000080; font-weight: bold\">}}</span><span style=\"color: #000080; text-decoration-color: #000080\"> Tesla using a a </span><span style=\"color: #000080; text-decoration-color: #000080; font-weight: bold\">{{</span><span style=\"color: #000080; text-decoration-color: #000080\"> </span>\n",
       "<span style=\"color: #000080; text-decoration-color: #000080\">ManufacturersModelName </span><span style=\"color: #000080; text-decoration-color: #000080; font-weight: bold\">}}</span><span style=\"color: #000080; text-decoration-color: #000080\"> system from </span><span style=\"color: #000080; text-decoration-color: #000080; font-weight: bold\">{{</span><span style=\"color: #000080; text-decoration-color: #000080\"> Manufacturer </span><span style=\"color: #000080; text-decoration-color: #000080; font-weight: bold\">}}</span><span style=\"color: #000080; text-decoration-color: #000080\">,</span>\n",
       "<span style=\"color: #000080; text-decoration-color: #000080\">with serial number </span><span style=\"color: #000080; text-decoration-color: #000080; font-weight: bold\">{{</span><span style=\"color: #000080; text-decoration-color: #000080\"> DeviceSerialNumber </span><span style=\"color: #000080; text-decoration-color: #000080; font-weight: bold\">}}</span><span style=\"color: #000080; text-decoration-color: #000080\">. The software version was </span><span style=\"color: #000080; text-decoration-color: #000080; font-weight: bold\">{{</span><span style=\"color: #000080; text-decoration-color: #000080\"> SoftwareVersions </span><span style=\"color: #000080; text-decoration-color: #000080; font-weight: bold\">}}</span><span style=\"color: #000080; text-decoration-color: #000080\">.</span>\n",
       "\n",
       "\n",
       "<span style=\"color: #000080; text-decoration-color: #000080\">For the N-Back task, </span><span style=\"color: #000080; text-decoration-color: #000080; font-weight: bold\">{{</span><span style=\"color: #000080; text-decoration-color: #000080\"> nb_runs </span><span style=\"color: #000080; text-decoration-color: #000080; font-weight: bold\">}}</span><span style=\"color: #000080; text-decoration-color: #000080\"> </span><span style=\"color: #000080; text-decoration-color: #000080; font-weight: bold\">run(</span><span style=\"color: #000080; text-decoration-color: #000080\">s</span><span style=\"color: #000080; text-decoration-color: #000080; font-weight: bold\">)</span><span style=\"color: #000080; text-decoration-color: #000080\"> of bold </span><span style=\"color: #000080; text-decoration-color: #000080; font-weight: bold\">{{</span><span style=\"color: #000080; text-decoration-color: #000080\"> PulseSequenceType </span><span style=\"color: #000080; text-decoration-color: #000080; font-weight: bold\">}}</span><span style=\"color: #000080; text-decoration-color: #000080\"> </span><span style=\"color: #000080; text-decoration-color: #000080; font-weight: bold\">{{</span><span style=\"color: #000080; text-decoration-color: #000080\"> ScanningSequence</span>\n",
       "<span style=\"color: #000080; text-decoration-color: #000080; font-weight: bold\">}}</span><span style=\"color: #000080; text-decoration-color: #000080\"> </span><span style=\"color: #000080; text-decoration-color: #000080; font-weight: bold\">{{</span><span style=\"color: #000080; text-decoration-color: #000080\"> SequenceVariant </span><span style=\"color: #000080; text-decoration-color: #000080; font-weight: bold\">}}</span>\n",
       "<span style=\"color: #000080; text-decoration-color: #000080\"> fMRI data were collected.</span>\n",
       "\n",
       "<span style=\"color: #000080; text-decoration-color: #000080\">The acquisiton parameters were: </span><span style=\"color: #000080; text-decoration-color: #000080; font-weight: bold\">{{</span><span style=\"color: #000080; text-decoration-color: #000080\"> nb_slices </span><span style=\"color: #000080; text-decoration-color: #000080; font-weight: bold\">}}</span><span style=\"color: #000080; text-decoration-color: #000080\"> slices acquired in a </span><span style=\"color: #000080; text-decoration-color: #000080; font-weight: bold\">{{</span><span style=\"color: #000080; text-decoration-color: #000080\"> so_str </span><span style=\"color: #000080; text-decoration-color: #000080; font-weight: bold\">}}</span><span style=\"color: #000080; text-decoration-color: #000080\"> fashion; </span>\n",
       "<span style=\"color: #000080; text-decoration-color: #000080\">repetition time, </span><span style=\"color: #000080; text-decoration-color: #000080\">TR</span><span style=\"color: #000080; text-decoration-color: #000080\">= </span><span style=\"color: #000080; text-decoration-color: #000080; font-weight: bold\">2500</span><span style=\"color: #000080; text-decoration-color: #000080\"> ms; flip angle, </span><span style=\"color: #000080; text-decoration-color: #000080\">FA</span><span style=\"color: #000080; text-decoration-color: #000080\">= </span><span style=\"color: #000080; text-decoration-color: #000080; font-weight: bold\">{{</span><span style=\"color: #000080; text-decoration-color: #000080\"> FlipAngle </span><span style=\"color: #000080; text-decoration-color: #000080; font-weight: bold\">}}</span><span style=\"color: #000080; text-decoration-color: #000080\">°; </span>\n",
       "<span style=\"color: #000080; text-decoration-color: #000080\">echo time, </span><span style=\"color: #000080; text-decoration-color: #000080\">TE</span><span style=\"color: #000080; text-decoration-color: #000080\">= </span><span style=\"color: #000080; text-decoration-color: #000080; font-weight: bold\">{{</span><span style=\"color: #000080; text-decoration-color: #000080\"> echo_time </span><span style=\"color: #000080; text-decoration-color: #000080; font-weight: bold\">}}</span><span style=\"color: #000080; text-decoration-color: #000080\"> ms; flip angle, multiband </span><span style=\"color: #000080; text-decoration-color: #000080\">factor</span><span style=\"color: #000080; text-decoration-color: #000080\">= </span><span style=\"color: #000080; text-decoration-color: #000080; font-weight: bold\">{{</span><span style=\"color: #000080; text-decoration-color: #000080\"> mb_str </span><span style=\"color: #000080; text-decoration-color: #000080; font-weight: bold\">}}</span><span style=\"color: #000080; text-decoration-color: #000080\">;</span>\n",
       "<span style=\"color: #000080; text-decoration-color: #000080\">in-plane acceleration </span><span style=\"color: #000080; text-decoration-color: #000080\">factor</span><span style=\"color: #000080; text-decoration-color: #000080\">= </span><span style=\"color: #000080; text-decoration-color: #000080; font-weight: bold\">{{</span><span style=\"color: #000080; text-decoration-color: #000080\"> pr_str </span><span style=\"color: #000080; text-decoration-color: #000080; font-weight: bold\">}}</span><span style=\"color: #000080; text-decoration-color: #000080\">; field of view </span><span style=\"color: #000080; text-decoration-color: #000080\">FOV</span><span style=\"color: #000080; text-decoration-color: #000080\">= 2x2x2 mm; matrix </span><span style=\"color: #000080; text-decoration-color: #000080\">size</span><span style=\"color: #000080; text-decoration-color: #000080\">= 64x64; </span>\n",
       "<span style=\"color: #000080; text-decoration-color: #000080\">voxel </span><span style=\"color: #000080; text-decoration-color: #000080\">size</span><span style=\"color: #000080; text-decoration-color: #000080\">= 128x128 mm;</span>\n",
       "\n",
       "\n",
       "<span style=\"color: #000080; text-decoration-color: #000080\">Each run was </span><span style=\"color: #000080; text-decoration-color: #000080; font-weight: bold\">{{</span><span style=\"color: #000080; text-decoration-color: #000080\"> length </span><span style=\"color: #000080; text-decoration-color: #000080; font-weight: bold\">}}</span><span style=\"color: #000080; text-decoration-color: #000080\"> minutes in length, during which </span><span style=\"color: #000080; text-decoration-color: #000080; font-weight: bold\">{{</span><span style=\"color: #000080; text-decoration-color: #000080\"> nb_vols </span><span style=\"color: #000080; text-decoration-color: #000080; font-weight: bold\">}}</span><span style=\"color: #000080; text-decoration-color: #000080\"> functional volumes </span>\n",
       "<span style=\"color: #000080; text-decoration-color: #000080\">were acquired.</span>\n",
       "\n",
       "<span style=\"color: #000080; text-decoration-color: #000080; font-weight: bold\">{{</span><span style=\"color: #000080; text-decoration-color: #000080\"> TaskDescription </span><span style=\"color: #000080; text-decoration-color: #000080; font-weight: bold\">}}</span>\n",
       "\n",
       "<span style=\"color: #000080; text-decoration-color: #000080\">Participants were specifically instructed to: </span><span style=\"color: #000080; text-decoration-color: #000080; font-weight: bold\">{{</span><span style=\"color: #000080; text-decoration-color: #000080\"> Instructions </span><span style=\"color: #000080; text-decoration-color: #000080; font-weight: bold\">}}</span>\n",
       "\n",
       "</pre>\n"
      ],
      "text/plain": [
       "\u001b[34mThe data acquisition was performed in the \u001b[0m\u001b[1;34m{\u001b[0m\u001b[1;34m{\u001b[0m\u001b[34m InstitutionName \u001b[0m\u001b[1;34m}\u001b[0m\u001b[1;34m}\u001b[0m\u001b[34m, \u001b[0m\u001b[1;34m{\u001b[0m\u001b[1;34m{\u001b[0m\u001b[34m \u001b[0m\n",
       "\u001b[34mInstitutionalDepartmentName \u001b[0m\u001b[1;34m}\u001b[0m\u001b[1;34m}\u001b[0m\u001b[34m, \u001b[0m\u001b[1;34m{\u001b[0m\u001b[1;34m{\u001b[0m\u001b[34m InstitutionAddress \u001b[0m\u001b[1;34m}\u001b[0m\u001b[1;34m}\u001b[0m\u001b[34m.\u001b[0m\n",
       "\n",
       "\u001b[34mMRI scans were acquired at \u001b[0m\u001b[1;34m{\u001b[0m\u001b[1;34m{\u001b[0m\u001b[34m MagneticFieldStrength \u001b[0m\u001b[1;34m}\u001b[0m\u001b[1;34m}\u001b[0m\u001b[34m Tesla using a a \u001b[0m\u001b[1;34m{\u001b[0m\u001b[1;34m{\u001b[0m\u001b[34m \u001b[0m\n",
       "\u001b[34mManufacturersModelName \u001b[0m\u001b[1;34m}\u001b[0m\u001b[1;34m}\u001b[0m\u001b[34m system from \u001b[0m\u001b[1;34m{\u001b[0m\u001b[1;34m{\u001b[0m\u001b[34m Manufacturer \u001b[0m\u001b[1;34m}\u001b[0m\u001b[1;34m}\u001b[0m\u001b[34m,\u001b[0m\n",
       "\u001b[34mwith serial number \u001b[0m\u001b[1;34m{\u001b[0m\u001b[1;34m{\u001b[0m\u001b[34m DeviceSerialNumber \u001b[0m\u001b[1;34m}\u001b[0m\u001b[1;34m}\u001b[0m\u001b[34m. The software version was \u001b[0m\u001b[1;34m{\u001b[0m\u001b[1;34m{\u001b[0m\u001b[34m SoftwareVersions \u001b[0m\u001b[1;34m}\u001b[0m\u001b[1;34m}\u001b[0m\u001b[34m.\u001b[0m\n",
       "\n",
       "\n",
       "\u001b[34mFor the N-Back task, \u001b[0m\u001b[1;34m{\u001b[0m\u001b[1;34m{\u001b[0m\u001b[34m nb_runs \u001b[0m\u001b[1;34m}\u001b[0m\u001b[1;34m}\u001b[0m\u001b[34m \u001b[0m\u001b[1;34mrun\u001b[0m\u001b[1;34m(\u001b[0m\u001b[34ms\u001b[0m\u001b[1;34m)\u001b[0m\u001b[34m of bold \u001b[0m\u001b[1;34m{\u001b[0m\u001b[1;34m{\u001b[0m\u001b[34m PulseSequenceType \u001b[0m\u001b[1;34m}\u001b[0m\u001b[1;34m}\u001b[0m\u001b[34m \u001b[0m\u001b[1;34m{\u001b[0m\u001b[1;34m{\u001b[0m\u001b[34m ScanningSequence\u001b[0m\n",
       "\u001b[1;34m}\u001b[0m\u001b[1;34m}\u001b[0m\u001b[34m \u001b[0m\u001b[1;34m{\u001b[0m\u001b[1;34m{\u001b[0m\u001b[34m SequenceVariant \u001b[0m\u001b[1;34m}\u001b[0m\u001b[1;34m}\u001b[0m\n",
       "\u001b[34m fMRI data were collected.\u001b[0m\n",
       "\n",
       "\u001b[34mThe acquisiton parameters were: \u001b[0m\u001b[1;34m{\u001b[0m\u001b[1;34m{\u001b[0m\u001b[34m nb_slices \u001b[0m\u001b[1;34m}\u001b[0m\u001b[1;34m}\u001b[0m\u001b[34m slices acquired in a \u001b[0m\u001b[1;34m{\u001b[0m\u001b[1;34m{\u001b[0m\u001b[34m so_str \u001b[0m\u001b[1;34m}\u001b[0m\u001b[1;34m}\u001b[0m\u001b[34m fashion; \u001b[0m\n",
       "\u001b[34mrepetition time, \u001b[0m\u001b[34mTR\u001b[0m\u001b[34m= \u001b[0m\u001b[1;34m2500\u001b[0m\u001b[34m ms; flip angle, \u001b[0m\u001b[34mFA\u001b[0m\u001b[34m= \u001b[0m\u001b[1;34m{\u001b[0m\u001b[1;34m{\u001b[0m\u001b[34m FlipAngle \u001b[0m\u001b[1;34m}\u001b[0m\u001b[1;34m}\u001b[0m\u001b[34m°; \u001b[0m\n",
       "\u001b[34mecho time, \u001b[0m\u001b[34mTE\u001b[0m\u001b[34m= \u001b[0m\u001b[1;34m{\u001b[0m\u001b[1;34m{\u001b[0m\u001b[34m echo_time \u001b[0m\u001b[1;34m}\u001b[0m\u001b[1;34m}\u001b[0m\u001b[34m ms; flip angle, multiband \u001b[0m\u001b[34mfactor\u001b[0m\u001b[34m= \u001b[0m\u001b[1;34m{\u001b[0m\u001b[1;34m{\u001b[0m\u001b[34m mb_str \u001b[0m\u001b[1;34m}\u001b[0m\u001b[1;34m}\u001b[0m\u001b[34m;\u001b[0m\n",
       "\u001b[34min-plane acceleration \u001b[0m\u001b[34mfactor\u001b[0m\u001b[34m= \u001b[0m\u001b[1;34m{\u001b[0m\u001b[1;34m{\u001b[0m\u001b[34m pr_str \u001b[0m\u001b[1;34m}\u001b[0m\u001b[1;34m}\u001b[0m\u001b[34m; field of view \u001b[0m\u001b[34mFOV\u001b[0m\u001b[34m= 2x2x2 mm; matrix \u001b[0m\u001b[34msize\u001b[0m\u001b[34m= 64x64; \u001b[0m\n",
       "\u001b[34mvoxel \u001b[0m\u001b[34msize\u001b[0m\u001b[34m= 128x128 mm;\u001b[0m\n",
       "\n",
       "\n",
       "\u001b[34mEach run was \u001b[0m\u001b[1;34m{\u001b[0m\u001b[1;34m{\u001b[0m\u001b[34m length \u001b[0m\u001b[1;34m}\u001b[0m\u001b[1;34m}\u001b[0m\u001b[34m minutes in length, during which \u001b[0m\u001b[1;34m{\u001b[0m\u001b[1;34m{\u001b[0m\u001b[34m nb_vols \u001b[0m\u001b[1;34m}\u001b[0m\u001b[1;34m}\u001b[0m\u001b[34m functional volumes \u001b[0m\n",
       "\u001b[34mwere acquired.\u001b[0m\n",
       "\n",
       "\u001b[1;34m{\u001b[0m\u001b[1;34m{\u001b[0m\u001b[34m TaskDescription \u001b[0m\u001b[1;34m}\u001b[0m\u001b[1;34m}\u001b[0m\n",
       "\n",
       "\u001b[34mParticipants were specifically instructed to: \u001b[0m\u001b[1;34m{\u001b[0m\u001b[1;34m{\u001b[0m\u001b[34m Instructions \u001b[0m\u001b[1;34m}\u001b[0m\u001b[1;34m}\u001b[0m\n",
       "\n"
      ]
     },
     "metadata": {},
     "output_type": "display_data"
    }
   ],
   "source": [
    "with open(\"partials/func.mustache\", \"r\") as template:\n",
    "\n",
    "    args = {\n",
    "        \"template\": template,\n",
    "        \"data\": info,\n",
    "        \"partials_path\": partials_path,\n",
    "        \"keep\": True,\n",
    "    }\n",
    "\n",
    "    foo = chevron.render(**args)\n",
    "\n",
    "print(\"[blue]\" + foo + \"[/blue]\")"
   ]
  },
  {
   "cell_type": "markdown",
   "id": "2cdf0a7a-d78c-4bfb-8df1-afc5befb76c3",
   "metadata": {},
   "source": [
    "---\n",
    "\n",
    "Without it, it is harder to see what information is missing."
   ]
  },
  {
   "cell_type": "code",
   "execution_count": 6,
   "id": "b8c0fb36-fa72-467a-9208-b39d01bbbc13",
   "metadata": {
    "collapsed": true,
    "jupyter": {
     "outputs_hidden": true
    },
    "tags": []
   },
   "outputs": [
    {
     "data": {
      "text/html": [
       "<pre style=\"white-space:pre;overflow-x:auto;line-height:normal;font-family:Menlo,'DejaVu Sans Mono',consolas,'Courier New',monospace\">The data acquisition was performed in the , , .\n",
       "\n",
       "MRI scans were acquired at  Tesla using a a  system from ,\n",
       "with serial number . The software version was .\n",
       "\n",
       "\n",
       "For the N-Back task,  <span style=\"color: #800080; text-decoration-color: #800080; font-weight: bold\">run</span><span style=\"font-weight: bold\">(</span>s<span style=\"font-weight: bold\">)</span> of    \n",
       " fMRI data were collected.\n",
       "\n",
       "The acquisiton parameters were:  slices acquired in a  fashion; repetition time,\n",
       "<span style=\"color: #808000; text-decoration-color: #808000\">TR</span>= <span style=\"color: #008080; text-decoration-color: #008080; font-weight: bold\">2.5</span> s; echo time, <span style=\"color: #808000; text-decoration-color: #808000\">TE</span>=  ms; flip angle, <span style=\"color: #808000; text-decoration-color: #808000\">FA</span>=  deg; multiband <span style=\"color: #808000; text-decoration-color: #808000\">factor</span>= ;\n",
       "in-plane acceleration <span style=\"color: #808000; text-decoration-color: #808000\">factor</span>= ; field of view <span style=\"color: #808000; text-decoration-color: #808000\">FOV</span>= 2x2x2 mm; matrix <span style=\"color: #808000; text-decoration-color: #808000\">size</span>= 64x64; voxel <span style=\"color: #808000; text-decoration-color: #808000\">size</span>= \n",
       "128x128 mm;\n",
       "\n",
       "\n",
       "Each run was  minutes in length, during which  functional volumes were acquired.\n",
       "\n",
       "\n",
       "\n",
       "Participants were specifically instructed to: \n",
       "\n",
       "</pre>\n"
      ],
      "text/plain": [
       "The data acquisition was performed in the , , .\n",
       "\n",
       "MRI scans were acquired at  Tesla using a a  system from ,\n",
       "with serial number . The software version was .\n",
       "\n",
       "\n",
       "For the N-Back task,  \u001b[1;35mrun\u001b[0m\u001b[1m(\u001b[0ms\u001b[1m)\u001b[0m of    \n",
       " fMRI data were collected.\n",
       "\n",
       "The acquisiton parameters were:  slices acquired in a  fashion; repetition time,\n",
       "\u001b[33mTR\u001b[0m= \u001b[1;36m2.5\u001b[0m s; echo time, \u001b[33mTE\u001b[0m=  ms; flip angle, \u001b[33mFA\u001b[0m=  deg; multiband \u001b[33mfactor\u001b[0m= ;\n",
       "in-plane acceleration \u001b[33mfactor\u001b[0m= ; field of view \u001b[33mFOV\u001b[0m= 2x2x2 mm; matrix \u001b[33msize\u001b[0m= 64x64; voxel \u001b[33msize\u001b[0m= \n",
       "128x128 mm;\n",
       "\n",
       "\n",
       "Each run was  minutes in length, during which  functional volumes were acquired.\n",
       "\n",
       "\n",
       "\n",
       "Participants were specifically instructed to: \n",
       "\n"
      ]
     },
     "metadata": {},
     "output_type": "display_data"
    }
   ],
   "source": [
    "with open(\"partials/func.mustache\", \"r\") as template:\n",
    "\n",
    "    args = {\n",
    "        \"template\": template,\n",
    "        \"data\": info,\n",
    "        \"partials_path\": partials_path,\n",
    "    }\n",
    "\n",
    "    foo = chevron.render(**args)\n",
    "\n",
    "print(\"[blue]\" + foo + \"[/blue]\")"
   ]
  },
  {
   "cell_type": "markdown",
   "id": "60941b10-93e6-46bd-951c-21c7336b4fbf",
   "metadata": {},
   "source": [
    "## Using bids-example"
   ]
  },
  {
   "cell_type": "code",
   "execution_count": 7,
   "id": "c74d9608-c36a-4d94-bcd1-14ed954992d2",
   "metadata": {},
   "outputs": [
    {
     "name": "stdout",
     "output_type": "stream",
     "text": [
      "git: '...' is not a git command. See 'git --help'.\n"
     ]
    }
   ],
   "source": [
    "!git ..."
   ]
  },
  {
   "cell_type": "code",
   "execution_count": 8,
   "id": "6f350371-f00f-4066-b332-714cdfd4c076",
   "metadata": {},
   "outputs": [
    {
     "name": "stdout",
     "output_type": "stream",
     "text": [
      "7t_trt\t\t   ds007    eeg_ds000117\t    pet005\n",
      "asl001\t\t   ds008    eeg_face13\t\t    qmri_irt1\n",
      "asl002\t\t   ds009    eeg_hed_small\t    qmri_megre\n",
      "asl003\t\t   ds011    eeg_matchingpennies     qmri_mese\n",
      "asl004\t\t   ds051    eeg_rest_fmri\t    qmri_mp2rage\n",
      "asl005\t\t   ds052    eeg_rishikesh\t    qmri_mp2rageme\n",
      "bidsconfig.json    ds101    genetics_ukbb\t    qmri_mpm\n",
      "CONTRIBUTING.md    ds102    hcp_example_bids\t    qmri_mtsat\n",
      "ds000001-fmriprep  ds105    ieeg_epilepsy\t    qmri_qsm\n",
      "ds000117\t   ds107    ieeg_epilepsy_ecog\t    qmri_sa2rage\n",
      "ds000246\t   ds108    ieeg_filtered_speech    qmri_tb1tfl\n",
      "ds000247\t   ds109    ieeg_motorMiller2007    qmri_vfa\n",
      "ds000248\t   ds110    ieeg_visual\t\t    README.md\n",
      "ds001\t\t   ds113b   ieeg_visual_multimodal  run_tests.sh\n",
      "ds002\t\t   ds114    pet001\t\t    synthetic\n",
      "ds003\t\t   ds116    pet002\n",
      "ds005\t\t   ds210    pet003\n",
      "ds006\t\t   eeg_cbm  pet004\n"
     ]
    }
   ],
   "source": [
    "!ls bids-examples/"
   ]
  },
  {
   "cell_type": "code",
   "execution_count": 9,
   "id": "c9f9d8dc-1724-4ed4-9d22-be442d269259",
   "metadata": {},
   "outputs": [
    {
     "data": {
      "text/plain": [
       "'/home/remi/github/BIDS-methods'"
      ]
     },
     "execution_count": 9,
     "metadata": {},
     "output_type": "execute_result"
    }
   ],
   "source": [
    "pwd"
   ]
  },
  {
   "cell_type": "code",
   "execution_count": 10,
   "id": "64ac3047-0100-4612-8b7a-be64b14c5cb8",
   "metadata": {},
   "outputs": [],
   "source": [
    "bids_example_path = os.path.join(\"/home/remi/github/BIDS-methods/\", \"bids-examples\")"
   ]
  },
  {
   "cell_type": "markdown",
   "id": "8255b3be-0f8e-46fc-95f0-cf630b819296",
   "metadata": {},
   "source": [
    "### EEG"
   ]
  },
  {
   "cell_type": "code",
   "execution_count": 20,
   "id": "2f439eed-6405-4091-bbc0-6095b7025f65",
   "metadata": {},
   "outputs": [
    {
     "data": {
      "text/html": [
       "<pre style=\"white-space:pre;overflow-x:auto;line-height:normal;font-family:Menlo,'DejaVu Sans Mono',consolas,'Courier New',monospace\">The data acquisition was performed in the Paul Sabatier University, Centre de Recherche \n",
       "Cerveau et Cognition, Centre de Recherche Cerveau et Cognition, Place du Docteur Baylac, \n",
       "Pavillon Baudot, <span style=\"color: #008080; text-decoration-color: #008080; font-weight: bold\">31059</span> Toulouse, France.\n",
       "\n",
       "Recordings were done using a ActiveTwo system from BIOSEMI,\n",
       "with serial number <span style=\"font-weight: bold\">{{</span> DeviceSerialNumber <span style=\"font-weight: bold\">}}</span>. The software version was <span style=\"font-weight: bold\">{{</span> SoftwareVersions <span style=\"font-weight: bold\">}}</span>.\n",
       "\n",
       "\n",
       "For the meditation task, <span style=\"font-weight: bold\">{{</span> nb_runs <span style=\"font-weight: bold\">}}</span> <span style=\"color: #800080; text-decoration-color: #800080; font-weight: bold\">run</span><span style=\"font-weight: bold\">(</span>s<span style=\"font-weight: bold\">)</span> of eeg data were collected.\n",
       "\n",
       "Power line and sampling frequencies were <span style=\"color: #008080; text-decoration-color: #008080; font-weight: bold\">50</span> Hz and <span style=\"color: #008080; text-decoration-color: #008080; font-weight: bold\">256</span> Hz, respectively.\n",
       "\n",
       "Data was collected with <span style=\"font-weight: bold\">{{</span> ChannelCount <span style=\"font-weight: bold\">}}</span> eeg channels, <span style=\"color: #008080; text-decoration-color: #008080; font-weight: bold\">0</span> EOG channels,\n",
       "<span style=\"color: #008080; text-decoration-color: #008080; font-weight: bold\">0</span> ECG channels and <span style=\"color: #008080; text-decoration-color: #008080; font-weight: bold\">0</span> EMG channels recorded simultaneously.\n",
       "\n",
       "<span style=\"font-weight: bold\">{{</span> TaskDescription <span style=\"font-weight: bold\">}}</span>\n",
       "\n",
       "Participants were specifically instructed to: <span style=\"font-weight: bold\">{{</span> Instructions <span style=\"font-weight: bold\">}}</span>\n",
       "\n",
       "</pre>\n"
      ],
      "text/plain": [
       "The data acquisition was performed in the Paul Sabatier University, Centre de Recherche \n",
       "Cerveau et Cognition, Centre de Recherche Cerveau et Cognition, Place du Docteur Baylac, \n",
       "Pavillon Baudot, \u001b[1;36m31059\u001b[0m Toulouse, France.\n",
       "\n",
       "Recordings were done using a ActiveTwo system from BIOSEMI,\n",
       "with serial number \u001b[1m{\u001b[0m\u001b[1m{\u001b[0m DeviceSerialNumber \u001b[1m}\u001b[0m\u001b[1m}\u001b[0m. The software version was \u001b[1m{\u001b[0m\u001b[1m{\u001b[0m SoftwareVersions \u001b[1m}\u001b[0m\u001b[1m}\u001b[0m.\n",
       "\n",
       "\n",
       "For the meditation task, \u001b[1m{\u001b[0m\u001b[1m{\u001b[0m nb_runs \u001b[1m}\u001b[0m\u001b[1m}\u001b[0m \u001b[1;35mrun\u001b[0m\u001b[1m(\u001b[0ms\u001b[1m)\u001b[0m of eeg data were collected.\n",
       "\n",
       "Power line and sampling frequencies were \u001b[1;36m50\u001b[0m Hz and \u001b[1;36m256\u001b[0m Hz, respectively.\n",
       "\n",
       "Data was collected with \u001b[1m{\u001b[0m\u001b[1m{\u001b[0m ChannelCount \u001b[1m}\u001b[0m\u001b[1m}\u001b[0m eeg channels, \u001b[1;36m0\u001b[0m EOG channels,\n",
       "\u001b[1;36m0\u001b[0m ECG channels and \u001b[1;36m0\u001b[0m EMG channels recorded simultaneously.\n",
       "\n",
       "\u001b[1m{\u001b[0m\u001b[1m{\u001b[0m TaskDescription \u001b[1m}\u001b[0m\u001b[1m}\u001b[0m\n",
       "\n",
       "Participants were specifically instructed to: \u001b[1m{\u001b[0m\u001b[1m{\u001b[0m Instructions \u001b[1m}\u001b[0m\u001b[1m}\u001b[0m\n",
       "\n"
      ]
     },
     "metadata": {},
     "output_type": "display_data"
    }
   ],
   "source": [
    "dataset = \"eeg_rishikesh\"\n",
    "\n",
    "data_path = os.path.join(bids_example_path, dataset)\n",
    "\n",
    "layout = BIDSLayout(data_path)\n",
    "\n",
    "bf = layout.get(subject=\"001\", suffix=\"eeg\")[0]\n",
    "\n",
    "metadata = bf.get_metadata()\n",
    "\n",
    "info = metadata\n",
    "\n",
    "info[\"suffix\"] = bf.get_entities()[\"suffix\"]\n",
    "\n",
    "with open(\"partials/meeg.mustache\", \"r\") as template:\n",
    "\n",
    "    args = {\n",
    "        \"template\": template,\n",
    "        \"data\": info,\n",
    "        \"partials_path\": partials_path,\n",
    "        \"keep\": True,\n",
    "    }\n",
    "\n",
    "    foo = chevron.render(**args)\n",
    "\n",
    "print(\"[blue]\" + foo + \"[/blue]\")"
   ]
  },
  {
   "cell_type": "code",
   "execution_count": 15,
   "id": "93568eba-d503-4964-8a0d-9cc795556852",
   "metadata": {},
   "outputs": [
    {
     "data": {
      "text/plain": [
       "'eeg'"
      ]
     },
     "execution_count": 15,
     "metadata": {},
     "output_type": "execute_result"
    }
   ],
   "source": [
    "bf.get_entities()[\"suffix\"]"
   ]
  }
 ],
 "metadata": {
  "kernelspec": {
   "display_name": "Python 3",
   "language": "python",
   "name": "python3"
  },
  "language_info": {
   "codemirror_mode": {
    "name": "ipython",
    "version": 3
   },
   "file_extension": ".py",
   "mimetype": "text/x-python",
   "name": "python",
   "nbconvert_exporter": "python",
   "pygments_lexer": "ipython3",
   "version": "3.8.0"
  }
 },
 "nbformat": 4,
 "nbformat_minor": 5
}
