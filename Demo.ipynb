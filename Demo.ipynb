{
 "cells": [
  {
   "cell_type": "code",
   "execution_count": 11,
   "id": "cf013321-671b-4bd7-b732-afe76698ec34",
   "metadata": {},
   "outputs": [
    {
     "name": "stdout",
     "output_type": "stream",
     "text": [
      "The autoreload extension is already loaded. To reload it, use:\n",
      "  %reload_ext autoreload\n"
     ]
    }
   ],
   "source": [
    "%load_ext autoreload\n",
    "%autoreload 2\n",
    "%load_ext lab_black\n",
    "\n",
    "import chevron\n",
    "from bids import BIDSLayout\n",
    "from bids.tests import get_test_data_path\n",
    "import os\n",
    "\n",
    "import nibabel as nib\n",
    "\n",
    "from parameters import describe_image_size"
   ]
  },
  {
   "cell_type": "code",
   "execution_count": 12,
   "id": "92ae24d8-553b-403b-b3aa-e9ec36838247",
   "metadata": {},
   "outputs": [],
   "source": [
    "dataset = \"synthetic\"\n",
    "\n",
    "# Here we're using an example BIDS dataset that's bundled with the pybids tests\n",
    "data_path = os.path.join(get_test_data_path(), dataset)\n",
    "\n",
    "# Load the BIDS dataset\n",
    "layout = BIDSLayout(data_path)"
   ]
  },
  {
   "cell_type": "code",
   "execution_count": 14,
   "id": "131ef632-81f4-42ed-a2d7-64dc34ad6489",
   "metadata": {},
   "outputs": [],
   "source": [
    "bf = layout.get(subject=\"01\", extension=\"nii.gz\", suffix=\"bold\")[0]\n",
    "metadata = bf.get_metadata()\n",
    "filename = bf.path\n",
    "\n",
    "img = nib.load(filename)\n",
    "image_size = describe_image_size(img)\n",
    "\n",
    "# join dictionaries\n",
    "info = {**metadata, **image_size}"
   ]
  },
  {
   "cell_type": "code",
   "execution_count": 16,
   "id": "aa0f843c-9f35-4262-ad67-43f087e9554a",
   "metadata": {
    "tags": []
   },
   "outputs": [
    {
     "name": "stdout",
     "output_type": "stream",
     "text": [
      "For the N-Back task,  run(s) of     fMRI data were collected.\n",
      "\n",
      "The acquisiton parameters were:  slices acquired in a  fashion; repetition time,\n",
      "TR= 2.5 s; echo time, TE=  ms; flip angle, FA=  deg; field of view,\n",
      "FOV= 2x2x2 mm; matrix size= 64x64; voxel size= 128x128 mm; multiband factor= ;\n",
      "in-plane acceleration factor= .\n",
      "\n",
      "Each run was  minutes in length, during which  functional volumes were acquired.\n",
      "\n"
     ]
    }
   ],
   "source": [
    "with open(\"partials/func.mustache\", \"r\") as f:\n",
    "    foo = chevron.render(f, info)\n",
    "\n",
    "print(foo)"
   ]
  },
  {
   "cell_type": "code",
   "execution_count": 18,
   "id": "b8c0fb36-fa72-467a-9208-b39d01bbbc13",
   "metadata": {},
   "outputs": [
    {
     "name": "stdout",
     "output_type": "stream",
     "text": [
      "For the N-Back task, nb_runs run(s) of suffix PulseSequenceType ScanningSequence SequenceVariant fMRI data were collected.\n",
      "\n",
      "The acquisiton parameters were: nb_slices slices acquired in a  fashion; repetition time,\n",
      "TR= 2.5 s; echo time, TE= echo_time ms; flip angle, FA= FlipAngle deg; field of view,\n",
      "FOV= 2x2x2 mm; matrix size= 64x64; voxel size= 128x128 mm; multiband factor= ;\n",
      "in-plane acceleration factor= .\n",
      "\n",
      "Each run was length minutes in length, during which  functional volumes were acquired.\n",
      "\n"
     ]
    }
   ],
   "source": [
    "default_func = {\n",
    "    \"TaskName\": \"TaskName\",\n",
    "    \"nb_runs\": \"nb_runs\",\n",
    "    \"suffix\": \"suffix\",\n",
    "    \"PulseSequenceType\": \"PulseSequenceType\",\n",
    "    \"ScanningSequence\": \"ScanningSequence\",\n",
    "    \"SequenceVariant\": \"SequenceVariant\",\n",
    "    \"nb_slices\": \"nb_slices\",\n",
    "    \"so_st\": \"so_st\",\n",
    "    \"RepetitionTime\": \"RepetitionTime\",\n",
    "    \"echo_time\": \"echo_time\",\n",
    "    \"FlipAngle\": \"FlipAngle\",\n",
    "    \"fov\": \"fov\",\n",
    "    \"mat_siz\": \"mat_siz\",\n",
    "    \"vox_siz\": \"vox_siz\",\n",
    "    \"mb_st\": \"mb_st\",\n",
    "    \"pr_st\": \"pr_st\",\n",
    "    \"length\": \"length\",\n",
    "    \"nb_vol\": \"nb_vol\",\n",
    "}\n",
    "\n",
    "# join dictionaries\n",
    "info = {**default_func, **metadata}\n",
    "info = {**info, **image_size}\n",
    "\n",
    "with open(\"partials/func.mustache\", \"r\") as f:\n",
    "    foo = chevron.render(f, info)\n",
    "\n",
    "print(foo)"
   ]
  }
 ],
 "metadata": {
  "kernelspec": {
   "display_name": "Python 3",
   "language": "python",
   "name": "python3"
  },
  "language_info": {
   "codemirror_mode": {
    "name": "ipython",
    "version": 3
   },
   "file_extension": ".py",
   "mimetype": "text/x-python",
   "name": "python",
   "nbconvert_exporter": "python",
   "pygments_lexer": "ipython3",
   "version": "3.8.0"
  }
 },
 "nbformat": 4,
 "nbformat_minor": 5
}
