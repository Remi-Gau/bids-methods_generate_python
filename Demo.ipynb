{
 "cells": [
  {
   "cell_type": "markdown",
   "id": "5eea4574-1138-4c12-9def-14f9ffbb7bca",
   "metadata": {},
   "source": [
    "# Generating methods section of BIDS dataset\n",
    "\n",
    "Uses pybids and chevron (a mustache template renderer) to automatically generate a method section"
   ]
  },
  {
   "cell_type": "code",
   "execution_count": 1,
   "id": "cf013321-671b-4bd7-b732-afe76698ec34",
   "metadata": {},
   "outputs": [],
   "source": [
    "%load_ext autoreload\n",
    "%autoreload 2\n",
    "%load_ext lab_black\n",
    "\n",
    "import chevron\n",
    "import os\n",
    "\n",
    "import nibabel as nib\n",
    "\n",
    "from bids import BIDSLayout\n",
    "from bids.tests import get_test_data_path\n",
    "\n",
    "from rich import print\n",
    "\n",
    "import parameters"
   ]
  },
  {
   "cell_type": "code",
   "execution_count": 2,
   "id": "d5017eac-6ea2-478a-9d04-6737266975da",
   "metadata": {},
   "outputs": [],
   "source": [
    "partials_path = \"/home/remi/github/BIDS-methods/partials/\""
   ]
  },
  {
   "cell_type": "code",
   "execution_count": 3,
   "id": "6ec1cf75-5a13-4739-89db-488921b7ee03",
   "metadata": {
    "tags": []
   },
   "outputs": [],
   "source": [
    "def highlight_missing_tags(foo):\n",
    "    foo = \"[blue]\" + foo + \"[/blue]\"\n",
    "    foo = foo.replace(\"{{\", \"[/blue][red]{{\")\n",
    "    foo = foo.replace(\"}}\", \"}}[/red][blue]\")\n",
    "    return foo"
   ]
  },
  {
   "cell_type": "code",
   "execution_count": 4,
   "id": "914b7550-fa0b-41f3-92c1-32d5441056fe",
   "metadata": {},
   "outputs": [],
   "source": [
    "def nb_runs(files):\n",
    "    all_runs = sorted(list(set([f.get_entities().get(\"run\", 1) for f in files])))\n",
    "    return len(all_runs)"
   ]
  },
  {
   "cell_type": "markdown",
   "id": "224bab4b-7fd5-42fa-bd8a-1e3e43bf1367",
   "metadata": {},
   "source": [
    "## Using pybids test data"
   ]
  },
  {
   "cell_type": "code",
   "execution_count": 5,
   "id": "92ae24d8-553b-403b-b3aa-e9ec36838247",
   "metadata": {},
   "outputs": [],
   "source": [
    "dataset = \"synthetic\"\n",
    "\n",
    "# Here we're using an example BIDS dataset that's bundled with the pybids tests\n",
    "data_path = os.path.join(get_test_data_path(), dataset)\n",
    "\n",
    "# Load the BIDS dataset\n",
    "layout = BIDSLayout(data_path)"
   ]
  },
  {
   "cell_type": "markdown",
   "id": "9864df45-e6bb-442d-a613-cdd18a6522f2",
   "metadata": {},
   "source": [
    "### BOLD"
   ]
  },
  {
   "cell_type": "code",
   "execution_count": 6,
   "id": "131ef632-81f4-42ed-a2d7-64dc34ad6489",
   "metadata": {},
   "outputs": [],
   "source": [
    "# get the first bold file of subject 01\n",
    "suffix = \"bold\"\n",
    "subject = \"01\"\n",
    "task = \"nback\"\n",
    "\n",
    "files = layout.get(subject=subject, task=task, suffix=suffix, extension=\".nii.gz\")\n",
    "\n",
    "this_file = files[0]\n",
    "\n",
    "metadata = this_file.get_metadata()\n",
    "\n",
    "filename = this_file.path\n",
    "img = nib.load(filename)\n",
    "image_size = parameters.describe_image_size(img)\n",
    "\n",
    "info = {**metadata, **image_size}\n",
    "\n",
    "info[\"suffix\"] = this_file.get_entities()[\"suffix\"]\n",
    "info[\"repetition_time\"] = parameters.describe_repetition_time(metadata)\n",
    "info[\"nb_runs\"] = nb_runs(files)\n",
    "\n",
    "duration, nb_vols = parameters.describe_duration(files)\n",
    "info[\"duration\"] = duration\n",
    "info[\"nb_vols\"] = nb_vols"
   ]
  },
  {
   "cell_type": "markdown",
   "id": "637e43c3-aa6e-425f-a903-4c4bf4d928c9",
   "metadata": {},
   "source": [
    "Using the `keep` option renders the empty tags"
   ]
  },
  {
   "cell_type": "code",
   "execution_count": 7,
   "id": "aa0f843c-9f35-4262-ad67-43f087e9554a",
   "metadata": {
    "tags": []
   },
   "outputs": [
    {
     "data": {
      "text/html": [
       "<pre style=\"white-space:pre;overflow-x:auto;line-height:normal;font-family:Menlo,'DejaVu Sans Mono',consolas,'Courier New',monospace\"><span style=\"color: #000080; text-decoration-color: #000080\">The data acquisition was performed in the </span><span style=\"color: #800000; text-decoration-color: #800000; font-weight: bold\">{{</span><span style=\"color: #800000; text-decoration-color: #800000\"> InstitutionName </span><span style=\"color: #800000; text-decoration-color: #800000; font-weight: bold\">}}</span><span style=\"color: #000080; text-decoration-color: #000080\">, </span><span style=\"color: #800000; text-decoration-color: #800000; font-weight: bold\">{{</span><span style=\"color: #800000; text-decoration-color: #800000\"> </span>\n",
       "<span style=\"color: #800000; text-decoration-color: #800000\">InstitutionalDepartmentName </span><span style=\"color: #800000; text-decoration-color: #800000; font-weight: bold\">}}</span><span style=\"color: #000080; text-decoration-color: #000080\">, </span><span style=\"color: #800000; text-decoration-color: #800000; font-weight: bold\">{{</span><span style=\"color: #800000; text-decoration-color: #800000\"> InstitutionAddress </span><span style=\"color: #800000; text-decoration-color: #800000; font-weight: bold\">}}</span><span style=\"color: #000080; text-decoration-color: #000080\">.</span>\n",
       "\n",
       "<span style=\"color: #000080; text-decoration-color: #000080\">MRI scans were acquired at </span><span style=\"color: #800000; text-decoration-color: #800000; font-weight: bold\">{{</span><span style=\"color: #800000; text-decoration-color: #800000\"> MagneticFieldStrength </span><span style=\"color: #800000; text-decoration-color: #800000; font-weight: bold\">}}</span><span style=\"color: #000080; text-decoration-color: #000080\"> Tesla using a a </span><span style=\"color: #800000; text-decoration-color: #800000; font-weight: bold\">{{</span><span style=\"color: #800000; text-decoration-color: #800000\"> </span>\n",
       "<span style=\"color: #800000; text-decoration-color: #800000\">ManufacturersModelName </span><span style=\"color: #800000; text-decoration-color: #800000; font-weight: bold\">}}</span><span style=\"color: #000080; text-decoration-color: #000080\"> system from </span><span style=\"color: #800000; text-decoration-color: #800000; font-weight: bold\">{{</span><span style=\"color: #800000; text-decoration-color: #800000\"> Manufacturer </span><span style=\"color: #800000; text-decoration-color: #800000; font-weight: bold\">}}</span><span style=\"color: #000080; text-decoration-color: #000080\">,</span>\n",
       "<span style=\"color: #000080; text-decoration-color: #000080\">with serial number </span><span style=\"color: #800000; text-decoration-color: #800000; font-weight: bold\">{{</span><span style=\"color: #800000; text-decoration-color: #800000\"> DeviceSerialNumber </span><span style=\"color: #800000; text-decoration-color: #800000; font-weight: bold\">}}</span><span style=\"color: #000080; text-decoration-color: #000080\">. The software version was </span><span style=\"color: #800000; text-decoration-color: #800000; font-weight: bold\">{{</span><span style=\"color: #800000; text-decoration-color: #800000\"> SoftwareVersions </span><span style=\"color: #800000; text-decoration-color: #800000; font-weight: bold\">}}</span><span style=\"color: #000080; text-decoration-color: #000080\">.</span>\n",
       "\n",
       "\n",
       "<span style=\"color: #000080; text-decoration-color: #000080\">For the N-Back task, </span><span style=\"color: #000080; text-decoration-color: #000080; font-weight: bold\">2</span><span style=\"color: #000080; text-decoration-color: #000080\"> </span><span style=\"color: #000080; text-decoration-color: #000080; font-weight: bold\">run(</span><span style=\"color: #000080; text-decoration-color: #000080\">s</span><span style=\"color: #000080; text-decoration-color: #000080; font-weight: bold\">)</span><span style=\"color: #000080; text-decoration-color: #000080\"> of bold</span>\n",
       "<span style=\"color: #000080; text-decoration-color: #000080\"> </span><span style=\"color: #800000; text-decoration-color: #800000; font-weight: bold\">{{</span><span style=\"color: #800000; text-decoration-color: #800000\"> PulseSequenceType </span><span style=\"color: #800000; text-decoration-color: #800000; font-weight: bold\">}}</span><span style=\"color: #000080; text-decoration-color: #000080\"> </span><span style=\"color: #800000; text-decoration-color: #800000; font-weight: bold\">{{</span><span style=\"color: #800000; text-decoration-color: #800000\"> ScanningSequence </span><span style=\"color: #800000; text-decoration-color: #800000; font-weight: bold\">}}</span><span style=\"color: #000080; text-decoration-color: #000080\"> </span><span style=\"color: #800000; text-decoration-color: #800000; font-weight: bold\">{{</span><span style=\"color: #800000; text-decoration-color: #800000\"> SequenceVariant </span><span style=\"color: #800000; text-decoration-color: #800000; font-weight: bold\">}}</span>\n",
       "<span style=\"color: #000080; text-decoration-color: #000080\"> fMRI data were collected.</span>\n",
       "\n",
       "<span style=\"color: #000080; text-decoration-color: #000080\">The acquisiton parameters were: </span><span style=\"color: #800000; text-decoration-color: #800000; font-weight: bold\">{{</span><span style=\"color: #800000; text-decoration-color: #800000\"> nb_slices </span><span style=\"color: #800000; text-decoration-color: #800000; font-weight: bold\">}}</span><span style=\"color: #000080; text-decoration-color: #000080\"> slices acquired in a </span><span style=\"color: #800000; text-decoration-color: #800000; font-weight: bold\">{{</span><span style=\"color: #800000; text-decoration-color: #800000\"> so_str </span><span style=\"color: #800000; text-decoration-color: #800000; font-weight: bold\">}}</span><span style=\"color: #000080; text-decoration-color: #000080\"> fashion; </span>\n",
       "<span style=\"color: #000080; text-decoration-color: #000080\">repetition time, </span><span style=\"color: #000080; text-decoration-color: #000080\">TR</span><span style=\"color: #000080; text-decoration-color: #000080\">= </span><span style=\"color: #000080; text-decoration-color: #000080; font-weight: bold\">2500</span><span style=\"color: #000080; text-decoration-color: #000080\"> ms; flip angle, </span><span style=\"color: #000080; text-decoration-color: #000080\">FA</span><span style=\"color: #000080; text-decoration-color: #000080\">= </span><span style=\"color: #800000; text-decoration-color: #800000; font-weight: bold\">{{</span><span style=\"color: #800000; text-decoration-color: #800000\"> FlipAngle </span><span style=\"color: #800000; text-decoration-color: #800000; font-weight: bold\">}}</span><span style=\"color: #000080; text-decoration-color: #000080\">°;</span>\n",
       "\n",
       "<span style=\"color: #000080; text-decoration-color: #000080\">echo time, </span><span style=\"color: #000080; text-decoration-color: #000080\">TE</span><span style=\"color: #000080; text-decoration-color: #000080\">= </span><span style=\"color: #800000; text-decoration-color: #800000; font-weight: bold\">{{</span><span style=\"color: #800000; text-decoration-color: #800000\"> echo_time </span><span style=\"color: #800000; text-decoration-color: #800000; font-weight: bold\">}}</span><span style=\"color: #000080; text-decoration-color: #000080\"> ms; flip angle, multiband </span><span style=\"color: #000080; text-decoration-color: #000080\">factor</span><span style=\"color: #000080; text-decoration-color: #000080\">= </span><span style=\"color: #800000; text-decoration-color: #800000; font-weight: bold\">{{</span><span style=\"color: #800000; text-decoration-color: #800000\"> mb_str </span><span style=\"color: #800000; text-decoration-color: #800000; font-weight: bold\">}}</span><span style=\"color: #000080; text-decoration-color: #000080\">;</span>\n",
       "<span style=\"color: #000080; text-decoration-color: #000080\">in-plane acceleration </span><span style=\"color: #000080; text-decoration-color: #000080\">factor</span><span style=\"color: #000080; text-decoration-color: #000080\">= </span><span style=\"color: #800000; text-decoration-color: #800000; font-weight: bold\">{{</span><span style=\"color: #800000; text-decoration-color: #800000\"> pr_str </span><span style=\"color: #800000; text-decoration-color: #800000; font-weight: bold\">}}</span><span style=\"color: #000080; text-decoration-color: #000080\">; field of view </span><span style=\"color: #000080; text-decoration-color: #000080\">FOV</span><span style=\"color: #000080; text-decoration-color: #000080\">= 2x2x2 mm; matrix </span><span style=\"color: #000080; text-decoration-color: #000080\">size</span><span style=\"color: #000080; text-decoration-color: #000080\">= 64x64; </span>\n",
       "<span style=\"color: #000080; text-decoration-color: #000080\">voxel </span><span style=\"color: #000080; text-decoration-color: #000080\">size</span><span style=\"color: #000080; text-decoration-color: #000080\">= 128x128 mm;</span>\n",
       "\n",
       "\n",
       "<span style=\"color: #000080; text-decoration-color: #000080\">Each run was </span><span style=\"color: #000080; text-decoration-color: #000080; font-weight: bold\">2:40</span><span style=\"color: #000080; text-decoration-color: #000080\"> minutes in length, during which </span><span style=\"color: #000080; text-decoration-color: #000080; font-weight: bold\">64</span><span style=\"color: #000080; text-decoration-color: #000080\"> functional volumes were acquired.</span>\n",
       "\n",
       "<span style=\"color: #800000; text-decoration-color: #800000; font-weight: bold\">{{</span><span style=\"color: #800000; text-decoration-color: #800000\"> TaskDescription </span><span style=\"color: #800000; text-decoration-color: #800000; font-weight: bold\">}}</span>\n",
       "\n",
       "<span style=\"color: #000080; text-decoration-color: #000080\">Participants were specifically instructed to: </span><span style=\"color: #800000; text-decoration-color: #800000; font-weight: bold\">{{</span><span style=\"color: #800000; text-decoration-color: #800000\"> Instructions </span><span style=\"color: #800000; text-decoration-color: #800000; font-weight: bold\">}}</span>\n",
       "\n",
       "</pre>\n"
      ],
      "text/plain": [
       "\u001b[34mThe data acquisition was performed in the \u001b[0m\u001b[1;31m{\u001b[0m\u001b[1;31m{\u001b[0m\u001b[31m InstitutionName \u001b[0m\u001b[1;31m}\u001b[0m\u001b[1;31m}\u001b[0m\u001b[34m, \u001b[0m\u001b[1;31m{\u001b[0m\u001b[1;31m{\u001b[0m\u001b[31m \u001b[0m\n",
       "\u001b[31mInstitutionalDepartmentName \u001b[0m\u001b[1;31m}\u001b[0m\u001b[1;31m}\u001b[0m\u001b[34m, \u001b[0m\u001b[1;31m{\u001b[0m\u001b[1;31m{\u001b[0m\u001b[31m InstitutionAddress \u001b[0m\u001b[1;31m}\u001b[0m\u001b[1;31m}\u001b[0m\u001b[34m.\u001b[0m\n",
       "\n",
       "\u001b[34mMRI scans were acquired at \u001b[0m\u001b[1;31m{\u001b[0m\u001b[1;31m{\u001b[0m\u001b[31m MagneticFieldStrength \u001b[0m\u001b[1;31m}\u001b[0m\u001b[1;31m}\u001b[0m\u001b[34m Tesla using a a \u001b[0m\u001b[1;31m{\u001b[0m\u001b[1;31m{\u001b[0m\u001b[31m \u001b[0m\n",
       "\u001b[31mManufacturersModelName \u001b[0m\u001b[1;31m}\u001b[0m\u001b[1;31m}\u001b[0m\u001b[34m system from \u001b[0m\u001b[1;31m{\u001b[0m\u001b[1;31m{\u001b[0m\u001b[31m Manufacturer \u001b[0m\u001b[1;31m}\u001b[0m\u001b[1;31m}\u001b[0m\u001b[34m,\u001b[0m\n",
       "\u001b[34mwith serial number \u001b[0m\u001b[1;31m{\u001b[0m\u001b[1;31m{\u001b[0m\u001b[31m DeviceSerialNumber \u001b[0m\u001b[1;31m}\u001b[0m\u001b[1;31m}\u001b[0m\u001b[34m. The software version was \u001b[0m\u001b[1;31m{\u001b[0m\u001b[1;31m{\u001b[0m\u001b[31m SoftwareVersions \u001b[0m\u001b[1;31m}\u001b[0m\u001b[1;31m}\u001b[0m\u001b[34m.\u001b[0m\n",
       "\n",
       "\n",
       "\u001b[34mFor the N-Back task, \u001b[0m\u001b[1;34m2\u001b[0m\u001b[34m \u001b[0m\u001b[1;34mrun\u001b[0m\u001b[1;34m(\u001b[0m\u001b[34ms\u001b[0m\u001b[1;34m)\u001b[0m\u001b[34m of bold\u001b[0m\n",
       "\u001b[34m \u001b[0m\u001b[1;31m{\u001b[0m\u001b[1;31m{\u001b[0m\u001b[31m PulseSequenceType \u001b[0m\u001b[1;31m}\u001b[0m\u001b[1;31m}\u001b[0m\u001b[34m \u001b[0m\u001b[1;31m{\u001b[0m\u001b[1;31m{\u001b[0m\u001b[31m ScanningSequence \u001b[0m\u001b[1;31m}\u001b[0m\u001b[1;31m}\u001b[0m\u001b[34m \u001b[0m\u001b[1;31m{\u001b[0m\u001b[1;31m{\u001b[0m\u001b[31m SequenceVariant \u001b[0m\u001b[1;31m}\u001b[0m\u001b[1;31m}\u001b[0m\n",
       "\u001b[34m fMRI data were collected.\u001b[0m\n",
       "\n",
       "\u001b[34mThe acquisiton parameters were: \u001b[0m\u001b[1;31m{\u001b[0m\u001b[1;31m{\u001b[0m\u001b[31m nb_slices \u001b[0m\u001b[1;31m}\u001b[0m\u001b[1;31m}\u001b[0m\u001b[34m slices acquired in a \u001b[0m\u001b[1;31m{\u001b[0m\u001b[1;31m{\u001b[0m\u001b[31m so_str \u001b[0m\u001b[1;31m}\u001b[0m\u001b[1;31m}\u001b[0m\u001b[34m fashion; \u001b[0m\n",
       "\u001b[34mrepetition time, \u001b[0m\u001b[34mTR\u001b[0m\u001b[34m= \u001b[0m\u001b[1;34m2500\u001b[0m\u001b[34m ms; flip angle, \u001b[0m\u001b[34mFA\u001b[0m\u001b[34m= \u001b[0m\u001b[1;31m{\u001b[0m\u001b[1;31m{\u001b[0m\u001b[31m FlipAngle \u001b[0m\u001b[1;31m}\u001b[0m\u001b[1;31m}\u001b[0m\u001b[34m°;\u001b[0m\n",
       "\n",
       "\u001b[34mecho time, \u001b[0m\u001b[34mTE\u001b[0m\u001b[34m= \u001b[0m\u001b[1;31m{\u001b[0m\u001b[1;31m{\u001b[0m\u001b[31m echo_time \u001b[0m\u001b[1;31m}\u001b[0m\u001b[1;31m}\u001b[0m\u001b[34m ms; flip angle, multiband \u001b[0m\u001b[34mfactor\u001b[0m\u001b[34m= \u001b[0m\u001b[1;31m{\u001b[0m\u001b[1;31m{\u001b[0m\u001b[31m mb_str \u001b[0m\u001b[1;31m}\u001b[0m\u001b[1;31m}\u001b[0m\u001b[34m;\u001b[0m\n",
       "\u001b[34min-plane acceleration \u001b[0m\u001b[34mfactor\u001b[0m\u001b[34m= \u001b[0m\u001b[1;31m{\u001b[0m\u001b[1;31m{\u001b[0m\u001b[31m pr_str \u001b[0m\u001b[1;31m}\u001b[0m\u001b[1;31m}\u001b[0m\u001b[34m; field of view \u001b[0m\u001b[34mFOV\u001b[0m\u001b[34m= 2x2x2 mm; matrix \u001b[0m\u001b[34msize\u001b[0m\u001b[34m= 64x64; \u001b[0m\n",
       "\u001b[34mvoxel \u001b[0m\u001b[34msize\u001b[0m\u001b[34m= 128x128 mm;\u001b[0m\n",
       "\n",
       "\n",
       "\u001b[34mEach run was \u001b[0m\u001b[1;34m2:40\u001b[0m\u001b[34m minutes in length, during which \u001b[0m\u001b[1;34m64\u001b[0m\u001b[34m functional volumes were acquired.\u001b[0m\n",
       "\n",
       "\u001b[1;31m{\u001b[0m\u001b[1;31m{\u001b[0m\u001b[31m TaskDescription \u001b[0m\u001b[1;31m}\u001b[0m\u001b[1;31m}\u001b[0m\n",
       "\n",
       "\u001b[34mParticipants were specifically instructed to: \u001b[0m\u001b[1;31m{\u001b[0m\u001b[1;31m{\u001b[0m\u001b[31m Instructions \u001b[0m\u001b[1;31m}\u001b[0m\u001b[1;31m}\u001b[0m\n",
       "\n"
      ]
     },
     "metadata": {},
     "output_type": "display_data"
    }
   ],
   "source": [
    "with open(\"partials/func.mustache\", \"r\") as template:\n",
    "\n",
    "    args = {\n",
    "        \"template\": template,\n",
    "        \"data\": info,\n",
    "        \"partials_path\": partials_path,\n",
    "        \"keep\": True,\n",
    "    }\n",
    "\n",
    "    foo = chevron.render(**args)\n",
    "\n",
    "print(highlight_missing_tags(foo))"
   ]
  },
  {
   "cell_type": "markdown",
   "id": "60941b10-93e6-46bd-951c-21c7336b4fbf",
   "metadata": {},
   "source": [
    "## Using bids-example"
   ]
  },
  {
   "cell_type": "code",
   "execution_count": 8,
   "id": "c74d9608-c36a-4d94-bcd1-14ed954992d2",
   "metadata": {},
   "outputs": [
    {
     "name": "stdout",
     "output_type": "stream",
     "text": [
      "git: '...' is not a git command. See 'git --help'.\n"
     ]
    }
   ],
   "source": [
    "!git ..."
   ]
  },
  {
   "cell_type": "code",
   "execution_count": 9,
   "id": "6f350371-f00f-4066-b332-714cdfd4c076",
   "metadata": {},
   "outputs": [
    {
     "name": "stdout",
     "output_type": "stream",
     "text": [
      "7t_trt\t\t   ds007    eeg_ds000117\t    pet005\n",
      "asl001\t\t   ds008    eeg_face13\t\t    qmri_irt1\n",
      "asl002\t\t   ds009    eeg_hed_small\t    qmri_megre\n",
      "asl003\t\t   ds011    eeg_matchingpennies     qmri_mese\n",
      "asl004\t\t   ds051    eeg_rest_fmri\t    qmri_mp2rage\n",
      "asl005\t\t   ds052    eeg_rishikesh\t    qmri_mp2rageme\n",
      "bidsconfig.json    ds101    genetics_ukbb\t    qmri_mpm\n",
      "CONTRIBUTING.md    ds102    hcp_example_bids\t    qmri_mtsat\n",
      "ds000001-fmriprep  ds105    ieeg_epilepsy\t    qmri_qsm\n",
      "ds000117\t   ds107    ieeg_epilepsy_ecog\t    qmri_sa2rage\n",
      "ds000246\t   ds108    ieeg_filtered_speech    qmri_tb1tfl\n",
      "ds000247\t   ds109    ieeg_motorMiller2007    qmri_vfa\n",
      "ds000248\t   ds110    ieeg_visual\t\t    README.md\n",
      "ds001\t\t   ds113b   ieeg_visual_multimodal  run_tests.sh\n",
      "ds002\t\t   ds114    pet001\t\t    synthetic\n",
      "ds003\t\t   ds116    pet002\n",
      "ds005\t\t   ds210    pet003\n",
      "ds006\t\t   eeg_cbm  pet004\n"
     ]
    }
   ],
   "source": [
    "!ls bids-examples/"
   ]
  },
  {
   "cell_type": "code",
   "execution_count": 10,
   "id": "64ac3047-0100-4612-8b7a-be64b14c5cb8",
   "metadata": {},
   "outputs": [],
   "source": [
    "bids_example_path = os.path.join(\"/home/remi/github/BIDS-methods/\", \"bids-examples\")"
   ]
  },
  {
   "cell_type": "markdown",
   "id": "37fc1ce2-2cb0-4b47-9a7e-2ff25def9a88",
   "metadata": {},
   "source": [
    "## ASL"
   ]
  },
  {
   "cell_type": "code",
   "execution_count": 14,
   "id": "96a64b3d-f8dc-4bc6-b99a-ae6af30cd208",
   "metadata": {},
   "outputs": [
    {
     "data": {
      "text/html": [
       "<pre style=\"white-space:pre;overflow-x:auto;line-height:normal;font-family:Menlo,'DejaVu Sans Mono',consolas,'Courier New',monospace\"><span style=\"color: #000080; text-decoration-color: #000080\">The data acquisition was performed in the </span><span style=\"color: #800000; text-decoration-color: #800000; font-weight: bold\">{{</span><span style=\"color: #800000; text-decoration-color: #800000\"> InstitutionName </span><span style=\"color: #800000; text-decoration-color: #800000; font-weight: bold\">}}</span><span style=\"color: #000080; text-decoration-color: #000080\">, </span><span style=\"color: #800000; text-decoration-color: #800000; font-weight: bold\">{{</span><span style=\"color: #800000; text-decoration-color: #800000\"> </span>\n",
       "<span style=\"color: #800000; text-decoration-color: #800000\">InstitutionalDepartmentName </span><span style=\"color: #800000; text-decoration-color: #800000; font-weight: bold\">}}</span><span style=\"color: #000080; text-decoration-color: #000080\">, </span><span style=\"color: #800000; text-decoration-color: #800000; font-weight: bold\">{{</span><span style=\"color: #800000; text-decoration-color: #800000\"> InstitutionAddress </span><span style=\"color: #800000; text-decoration-color: #800000; font-weight: bold\">}}</span><span style=\"color: #000080; text-decoration-color: #000080\">.</span>\n",
       "\n",
       "<span style=\"color: #000080; text-decoration-color: #000080\">spiral spiral RM NONE</span>\n",
       "<span style=\"color: #000080; text-decoration-color: #000080\"> perfusion MRI data</span>\n",
       "<span style=\"color: #000080; text-decoration-color: #000080\">were collected </span><span style=\"color: #000080; text-decoration-color: #000080; font-weight: bold\">(</span><span style=\"color: #800000; text-decoration-color: #800000; font-weight: bold\">{{</span><span style=\"color: #800000; text-decoration-color: #800000\"> nb_slices </span><span style=\"color: #800000; text-decoration-color: #800000; font-weight: bold\">}}</span><span style=\"color: #000080; text-decoration-color: #000080\"> slices; repetition time, repetition time, </span><span style=\"color: #000080; text-decoration-color: #000080\">TR</span><span style=\"color: #000080; text-decoration-color: #000080\">= </span><span style=\"color: #800000; text-decoration-color: #800000; font-weight: bold\">{{</span><span style=\"color: #800000; text-decoration-color: #800000\"> </span>\n",
       "<span style=\"color: #800000; text-decoration-color: #800000\">repetition_time </span><span style=\"color: #800000; text-decoration-color: #800000; font-weight: bold\">}}</span><span style=\"color: #000080; text-decoration-color: #000080\"> ms; flip angle, </span><span style=\"color: #000080; text-decoration-color: #000080\">FA</span><span style=\"color: #000080; text-decoration-color: #000080\">= </span><span style=\"color: #000080; text-decoration-color: #000080; font-weight: bold\">111</span><span style=\"color: #000080; text-decoration-color: #000080\">°;</span>\n",
       "<span style=\"color: #000080; text-decoration-color: #000080\">; echo time,</span>\n",
       "<span style=\"color: #000080; text-decoration-color: #000080\">TE</span><span style=\"color: #000080; text-decoration-color: #000080\">= </span><span style=\"color: #800000; text-decoration-color: #800000; font-weight: bold\">{{</span><span style=\"color: #800000; text-decoration-color: #800000\"> echo_time </span><span style=\"color: #800000; text-decoration-color: #800000; font-weight: bold\">}}</span><span style=\"color: #000080; text-decoration-color: #000080\"> ms; field of view </span><span style=\"color: #000080; text-decoration-color: #000080\">FOV</span><span style=\"color: #000080; text-decoration-color: #000080\">= </span><span style=\"color: #800000; text-decoration-color: #800000; font-weight: bold\">{{</span><span style=\"color: #800000; text-decoration-color: #800000\"> fov </span><span style=\"color: #800000; text-decoration-color: #800000; font-weight: bold\">}}</span><span style=\"color: #000080; text-decoration-color: #000080\"> mm; matrix </span><span style=\"color: #000080; text-decoration-color: #000080\">size</span><span style=\"color: #000080; text-decoration-color: #000080\">= </span><span style=\"color: #800000; text-decoration-color: #800000; font-weight: bold\">{{</span><span style=\"color: #800000; text-decoration-color: #800000\"> mat_size </span><span style=\"color: #800000; text-decoration-color: #800000; font-weight: bold\">}}</span><span style=\"color: #000080; text-decoration-color: #000080\">; voxel </span>\n",
       "<span style=\"color: #000080; text-decoration-color: #000080\">size</span><span style=\"color: #000080; text-decoration-color: #000080\">= </span><span style=\"color: #800000; text-decoration-color: #800000; font-weight: bold\">{{</span><span style=\"color: #800000; text-decoration-color: #800000\"> vox_size </span><span style=\"color: #800000; text-decoration-color: #800000; font-weight: bold\">}}</span><span style=\"color: #000080; text-decoration-color: #000080\"> mm;</span>\n",
       "\n",
       "\n",
       "</pre>\n"
      ],
      "text/plain": [
       "\u001b[34mThe data acquisition was performed in the \u001b[0m\u001b[1;31m{\u001b[0m\u001b[1;31m{\u001b[0m\u001b[31m InstitutionName \u001b[0m\u001b[1;31m}\u001b[0m\u001b[1;31m}\u001b[0m\u001b[34m, \u001b[0m\u001b[1;31m{\u001b[0m\u001b[1;31m{\u001b[0m\u001b[31m \u001b[0m\n",
       "\u001b[31mInstitutionalDepartmentName \u001b[0m\u001b[1;31m}\u001b[0m\u001b[1;31m}\u001b[0m\u001b[34m, \u001b[0m\u001b[1;31m{\u001b[0m\u001b[1;31m{\u001b[0m\u001b[31m InstitutionAddress \u001b[0m\u001b[1;31m}\u001b[0m\u001b[1;31m}\u001b[0m\u001b[34m.\u001b[0m\n",
       "\n",
       "\u001b[34mspiral spiral RM NONE\u001b[0m\n",
       "\u001b[34m perfusion MRI data\u001b[0m\n",
       "\u001b[34mwere collected \u001b[0m\u001b[1;34m(\u001b[0m\u001b[1;31m{\u001b[0m\u001b[1;31m{\u001b[0m\u001b[31m nb_slices \u001b[0m\u001b[1;31m}\u001b[0m\u001b[1;31m}\u001b[0m\u001b[34m slices; repetition time, repetition time, \u001b[0m\u001b[34mTR\u001b[0m\u001b[34m= \u001b[0m\u001b[1;31m{\u001b[0m\u001b[1;31m{\u001b[0m\u001b[31m \u001b[0m\n",
       "\u001b[31mrepetition_time \u001b[0m\u001b[1;31m}\u001b[0m\u001b[1;31m}\u001b[0m\u001b[34m ms; flip angle, \u001b[0m\u001b[34mFA\u001b[0m\u001b[34m= \u001b[0m\u001b[1;34m111\u001b[0m\u001b[34m°;\u001b[0m\n",
       "\u001b[34m; echo time,\u001b[0m\n",
       "\u001b[34mTE\u001b[0m\u001b[34m= \u001b[0m\u001b[1;31m{\u001b[0m\u001b[1;31m{\u001b[0m\u001b[31m echo_time \u001b[0m\u001b[1;31m}\u001b[0m\u001b[1;31m}\u001b[0m\u001b[34m ms; field of view \u001b[0m\u001b[34mFOV\u001b[0m\u001b[34m= \u001b[0m\u001b[1;31m{\u001b[0m\u001b[1;31m{\u001b[0m\u001b[31m fov \u001b[0m\u001b[1;31m}\u001b[0m\u001b[1;31m}\u001b[0m\u001b[34m mm; matrix \u001b[0m\u001b[34msize\u001b[0m\u001b[34m= \u001b[0m\u001b[1;31m{\u001b[0m\u001b[1;31m{\u001b[0m\u001b[31m mat_size \u001b[0m\u001b[1;31m}\u001b[0m\u001b[1;31m}\u001b[0m\u001b[34m; voxel \u001b[0m\n",
       "\u001b[34msize\u001b[0m\u001b[34m= \u001b[0m\u001b[1;31m{\u001b[0m\u001b[1;31m{\u001b[0m\u001b[31m vox_size \u001b[0m\u001b[1;31m}\u001b[0m\u001b[1;31m}\u001b[0m\u001b[34m mm;\u001b[0m\n",
       "\n",
       "\n"
      ]
     },
     "metadata": {},
     "output_type": "display_data"
    }
   ],
   "source": [
    "dataset = \"asl001\"\n",
    "\n",
    "data_path = os.path.join(bids_example_path, dataset)\n",
    "\n",
    "layout = BIDSLayout(data_path)\n",
    "\n",
    "suffix = \"asl\"\n",
    "subject = \"Sub103\"\n",
    "\n",
    "files = layout.get(subject=subject, extension=\".nii.gz\", suffix=suffix)\n",
    "\n",
    "this_file = files[0]\n",
    "\n",
    "metadata = this_file.get_metadata()\n",
    "\n",
    "info = metadata\n",
    "\n",
    "info[\"suffix\"] = this_file.get_entities()[\"suffix\"]\n",
    "info[\"nb_runs\"] = nb_runs(files)\n",
    "\n",
    "with open(\"partials/perf.mustache\", \"r\") as template:\n",
    "\n",
    "    args = {\n",
    "        \"template\": template,\n",
    "        \"data\": info,\n",
    "        \"partials_path\": partials_path,\n",
    "        \"keep\": True,\n",
    "    }\n",
    "\n",
    "    foo = chevron.render(**args)\n",
    "\n",
    "print(highlight_missing_tags(foo))"
   ]
  },
  {
   "cell_type": "markdown",
   "id": "8255b3be-0f8e-46fc-95f0-cf630b819296",
   "metadata": {},
   "source": [
    "### EEG"
   ]
  },
  {
   "cell_type": "code",
   "execution_count": 12,
   "id": "2f439eed-6405-4091-bbc0-6095b7025f65",
   "metadata": {},
   "outputs": [
    {
     "data": {
      "text/html": [
       "<pre style=\"white-space:pre;overflow-x:auto;line-height:normal;font-family:Menlo,'DejaVu Sans Mono',consolas,'Courier New',monospace\"><span style=\"color: #000080; text-decoration-color: #000080\">The data acquisition was performed in the Paul Sabatier University, Centre de Recherche </span>\n",
       "<span style=\"color: #000080; text-decoration-color: #000080\">Cerveau et Cognition, Centre de Recherche Cerveau et Cognition, Place du Docteur Baylac, </span>\n",
       "<span style=\"color: #000080; text-decoration-color: #000080\">Pavillon Baudot, </span><span style=\"color: #000080; text-decoration-color: #000080; font-weight: bold\">31059</span><span style=\"color: #000080; text-decoration-color: #000080\"> Toulouse, France.</span>\n",
       "\n",
       "<span style=\"color: #000080; text-decoration-color: #000080\">Recordings were done using a ActiveTwo system from BIOSEMI,</span>\n",
       "<span style=\"color: #000080; text-decoration-color: #000080\">with serial number </span><span style=\"color: #800000; text-decoration-color: #800000; font-weight: bold\">{{</span><span style=\"color: #800000; text-decoration-color: #800000\"> DeviceSerialNumber </span><span style=\"color: #800000; text-decoration-color: #800000; font-weight: bold\">}}</span><span style=\"color: #000080; text-decoration-color: #000080\">. The software version was </span><span style=\"color: #800000; text-decoration-color: #800000; font-weight: bold\">{{</span><span style=\"color: #800000; text-decoration-color: #800000\"> SoftwareVersions </span><span style=\"color: #800000; text-decoration-color: #800000; font-weight: bold\">}}</span><span style=\"color: #000080; text-decoration-color: #000080\">.</span>\n",
       "\n",
       "\n",
       "<span style=\"color: #000080; text-decoration-color: #000080\">For the meditation task, </span><span style=\"color: #000080; text-decoration-color: #000080; font-weight: bold\">1</span><span style=\"color: #000080; text-decoration-color: #000080\"> </span><span style=\"color: #000080; text-decoration-color: #000080; font-weight: bold\">run(</span><span style=\"color: #000080; text-decoration-color: #000080\">s</span><span style=\"color: #000080; text-decoration-color: #000080; font-weight: bold\">)</span><span style=\"color: #000080; text-decoration-color: #000080\"> of eeg</span>\n",
       "<span style=\"color: #000080; text-decoration-color: #000080\"> data were collected.</span>\n",
       "\n",
       "<span style=\"color: #000080; text-decoration-color: #000080\">Power line and sampling frequencies were </span><span style=\"color: #000080; text-decoration-color: #000080; font-weight: bold\">50</span><span style=\"color: #000080; text-decoration-color: #000080\"> Hz and </span><span style=\"color: #000080; text-decoration-color: #000080; font-weight: bold\">256</span><span style=\"color: #000080; text-decoration-color: #000080\"> Hz, respectively.</span>\n",
       "\n",
       "<span style=\"color: #000080; text-decoration-color: #000080\">Data was collected with </span><span style=\"color: #800000; text-decoration-color: #800000; font-weight: bold\">{{</span><span style=\"color: #800000; text-decoration-color: #800000\"> ChannelCount </span><span style=\"color: #800000; text-decoration-color: #800000; font-weight: bold\">}}</span><span style=\"color: #000080; text-decoration-color: #000080\"> eeg channels, </span><span style=\"color: #000080; text-decoration-color: #000080; font-weight: bold\">0</span><span style=\"color: #000080; text-decoration-color: #000080\"> EOG channels,</span>\n",
       "<span style=\"color: #000080; text-decoration-color: #000080; font-weight: bold\">0</span><span style=\"color: #000080; text-decoration-color: #000080\"> ECG channels and </span><span style=\"color: #000080; text-decoration-color: #000080; font-weight: bold\">0</span><span style=\"color: #000080; text-decoration-color: #000080\"> EMG channels recorded simultaneously.</span>\n",
       "\n",
       "<span style=\"color: #800000; text-decoration-color: #800000; font-weight: bold\">{{</span><span style=\"color: #800000; text-decoration-color: #800000\"> TaskDescription </span><span style=\"color: #800000; text-decoration-color: #800000; font-weight: bold\">}}</span>\n",
       "\n",
       "<span style=\"color: #000080; text-decoration-color: #000080\">Participants were specifically instructed to: </span><span style=\"color: #800000; text-decoration-color: #800000; font-weight: bold\">{{</span><span style=\"color: #800000; text-decoration-color: #800000\"> Instructions </span><span style=\"color: #800000; text-decoration-color: #800000; font-weight: bold\">}}</span>\n",
       "\n",
       "</pre>\n"
      ],
      "text/plain": [
       "\u001b[34mThe data acquisition was performed in the Paul Sabatier University, Centre de Recherche \u001b[0m\n",
       "\u001b[34mCerveau et Cognition, Centre de Recherche Cerveau et Cognition, Place du Docteur Baylac, \u001b[0m\n",
       "\u001b[34mPavillon Baudot, \u001b[0m\u001b[1;34m31059\u001b[0m\u001b[34m Toulouse, France.\u001b[0m\n",
       "\n",
       "\u001b[34mRecordings were done using a ActiveTwo system from BIOSEMI,\u001b[0m\n",
       "\u001b[34mwith serial number \u001b[0m\u001b[1;31m{\u001b[0m\u001b[1;31m{\u001b[0m\u001b[31m DeviceSerialNumber \u001b[0m\u001b[1;31m}\u001b[0m\u001b[1;31m}\u001b[0m\u001b[34m. The software version was \u001b[0m\u001b[1;31m{\u001b[0m\u001b[1;31m{\u001b[0m\u001b[31m SoftwareVersions \u001b[0m\u001b[1;31m}\u001b[0m\u001b[1;31m}\u001b[0m\u001b[34m.\u001b[0m\n",
       "\n",
       "\n",
       "\u001b[34mFor the meditation task, \u001b[0m\u001b[1;34m1\u001b[0m\u001b[34m \u001b[0m\u001b[1;34mrun\u001b[0m\u001b[1;34m(\u001b[0m\u001b[34ms\u001b[0m\u001b[1;34m)\u001b[0m\u001b[34m of eeg\u001b[0m\n",
       "\u001b[34m data were collected.\u001b[0m\n",
       "\n",
       "\u001b[34mPower line and sampling frequencies were \u001b[0m\u001b[1;34m50\u001b[0m\u001b[34m Hz and \u001b[0m\u001b[1;34m256\u001b[0m\u001b[34m Hz, respectively.\u001b[0m\n",
       "\n",
       "\u001b[34mData was collected with \u001b[0m\u001b[1;31m{\u001b[0m\u001b[1;31m{\u001b[0m\u001b[31m ChannelCount \u001b[0m\u001b[1;31m}\u001b[0m\u001b[1;31m}\u001b[0m\u001b[34m eeg channels, \u001b[0m\u001b[1;34m0\u001b[0m\u001b[34m EOG channels,\u001b[0m\n",
       "\u001b[1;34m0\u001b[0m\u001b[34m ECG channels and \u001b[0m\u001b[1;34m0\u001b[0m\u001b[34m EMG channels recorded simultaneously.\u001b[0m\n",
       "\n",
       "\u001b[1;31m{\u001b[0m\u001b[1;31m{\u001b[0m\u001b[31m TaskDescription \u001b[0m\u001b[1;31m}\u001b[0m\u001b[1;31m}\u001b[0m\n",
       "\n",
       "\u001b[34mParticipants were specifically instructed to: \u001b[0m\u001b[1;31m{\u001b[0m\u001b[1;31m{\u001b[0m\u001b[31m Instructions \u001b[0m\u001b[1;31m}\u001b[0m\u001b[1;31m}\u001b[0m\n",
       "\n"
      ]
     },
     "metadata": {},
     "output_type": "display_data"
    }
   ],
   "source": [
    "dataset = \"eeg_rishikesh\"\n",
    "\n",
    "data_path = os.path.join(bids_example_path, dataset)\n",
    "\n",
    "layout = BIDSLayout(data_path)\n",
    "\n",
    "suffix = \"eeg\"\n",
    "subject = \"001\"\n",
    "task = \"meditation\"\n",
    "\n",
    "files = layout.get(subject=subject, task=task, suffix=suffix)\n",
    "\n",
    "this_file = files[0]\n",
    "\n",
    "metadata = this_file.get_metadata()\n",
    "\n",
    "info = metadata\n",
    "\n",
    "info[\"suffix\"] = this_file.get_entities()[\"suffix\"]\n",
    "info[\"nb_runs\"] = nb_runs(files)\n",
    "\n",
    "with open(\"partials/meeg.mustache\", \"r\") as template:\n",
    "\n",
    "    args = {\n",
    "        \"template\": template,\n",
    "        \"data\": info,\n",
    "        \"partials_path\": partials_path,\n",
    "        \"keep\": True,\n",
    "    }\n",
    "\n",
    "    foo = chevron.render(**args)\n",
    "\n",
    "print(highlight_missing_tags(foo))"
   ]
  }
 ],
 "metadata": {
  "kernelspec": {
   "display_name": "Python 3",
   "language": "python",
   "name": "python3"
  },
  "language_info": {
   "codemirror_mode": {
    "name": "ipython",
    "version": 3
   },
   "file_extension": ".py",
   "mimetype": "text/x-python",
   "name": "python",
   "nbconvert_exporter": "python",
   "pygments_lexer": "ipython3",
   "version": "3.8.0"
  }
 },
 "nbformat": 4,
 "nbformat_minor": 5
}
